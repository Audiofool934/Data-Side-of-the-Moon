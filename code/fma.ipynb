{
 "cells": [
  {
   "cell_type": "code",
   "execution_count": 44,
   "metadata": {},
   "outputs": [],
   "source": [
    "import pandas as pd\n",
    "import os\n",
    "import shutil\n",
    "from collections import defaultdict"
   ]
  },
  {
   "cell_type": "code",
   "execution_count": 45,
   "metadata": {},
   "outputs": [
    {
     "name": "stderr",
     "output_type": "stream",
     "text": [
      "/tmp/ipykernel_2566712/2881960075.py:1: DtypeWarning: Columns (0,1,5,6,8,12,18,20,21,22,24,33,34,38,39,44,47,49) have mixed types. Specify dtype option on import or set low_memory=False.\n",
      "  tracks = pd.read_csv(\"data/audio/fma_metadata/tracks.csv\")\n"
     ]
    }
   ],
   "source": [
    "tracks = pd.read_csv(\"data/audio/fma_metadata/tracks.csv\")\n",
    "track_info = tracks[[\"track.7\",'track.8']]\n",
    "track_info.columns = track_info.iloc[0].rename('track_id')\n",
    "track_info = track_info.iloc[2:]"
   ]
  },
  {
   "cell_type": "code",
   "execution_count": 46,
   "metadata": {},
   "outputs": [
    {
     "data": {
      "text/plain": [
       "genre_top\n",
       "Rock                   14182\n",
       "Experimental           10608\n",
       "Electronic              9372\n",
       "Hip-Hop                 3552\n",
       "Folk                    2803\n",
       "Pop                     2332\n",
       "Instrumental            2079\n",
       "International           1389\n",
       "Classical               1230\n",
       "Jazz                     571\n",
       "Old-Time / Historic      554\n",
       "Spoken                   423\n",
       "Country                  194\n",
       "Soul-RnB                 175\n",
       "Blues                    110\n",
       "Easy Listening            24\n",
       "Name: count, dtype: int64"
      ]
     },
     "execution_count": 46,
     "metadata": {},
     "output_type": "execute_result"
    }
   ],
   "source": [
    "track_info.genre_top.value_counts()"
   ]
  },
  {
   "cell_type": "code",
   "execution_count": 47,
   "metadata": {},
   "outputs": [
    {
     "data": {
      "text/plain": [
       "genres\n",
       "[21]                    2735\n",
       "[15]                    2689\n",
       "[]                      2231\n",
       "[12]                    1896\n",
       "[1, 30, 38, 41, 247]    1633\n",
       "                        ... \n",
       "[15, 240, 468]             1\n",
       "[17, 63, 1235]             1\n",
       "[10, 12, 169]              1\n",
       "[25, 33]                   1\n",
       "[13, 763]                  1\n",
       "Name: count, Length: 4768, dtype: int64"
      ]
     },
     "execution_count": 47,
     "metadata": {},
     "output_type": "execute_result"
    }
   ],
   "source": [
    "track_info.genres.value_counts()"
   ]
  },
  {
   "cell_type": "code",
   "execution_count": 48,
   "metadata": {},
   "outputs": [
    {
     "data": {
      "text/plain": [
       "[('data/audio/fma_small/139/139776.mp3', '139776'),\n",
       " ('data/audio/fma_small/139/139043.mp3', '139043'),\n",
       " ('data/audio/fma_small/139/139110.mp3', '139110'),\n",
       " ('data/audio/fma_small/139/139934.mp3', '139934'),\n",
       " ('data/audio/fma_small/139/139935.mp3', '139935')]"
      ]
     },
     "execution_count": 48,
     "metadata": {},
     "output_type": "execute_result"
    }
   ],
   "source": [
    "file_list = []\n",
    "for root, dirs, files in os.walk(\"data/audio/fma_small\"):\n",
    "    for file in files:\n",
    "        file_list.append((os.path.join(root, file), file.replace(\".mp3\", \"\").lstrip(\"0\")))\n",
    "\n",
    "file_list[:5]"
   ]
  },
  {
   "cell_type": "code",
   "execution_count": 49,
   "metadata": {},
   "outputs": [],
   "source": [
    "# def get_genre_top(file_id, track_info_dict):\n",
    "#     return track_info_dict.get(int(file_id), None)\n",
    "\n",
    "# track_info_dict = track_info['genre_top'].to_dict()\n",
    "\n",
    "# result = [(file[1], get_genre_top(file[1], track_info_dict), file[0]) for file in file_list]\n",
    "# result[:5]"
   ]
  },
  {
   "cell_type": "code",
   "execution_count": 50,
   "metadata": {},
   "outputs": [],
   "source": [
    "def reorganize_by_genre(result, destination_folder=\"data/audio/fma_small_by_genre\"):\n",
    "    os.makedirs(destination_folder, exist_ok=True)\n",
    "    \n",
    "    # 用于记录每个风格的文件数量\n",
    "    genre_count = defaultdict(int)\n",
    "    \n",
    "    for file_id, genre, file_path in result:\n",
    "        # 如果风格为空（nan），跳过这个文件\n",
    "        if pd.isna(genre):\n",
    "            continue\n",
    "\n",
    "        # 创建以风格为名的文件夹\n",
    "        genre_folder = os.path.join(destination_folder, genre)\n",
    "        os.makedirs(genre_folder, exist_ok=True)\n",
    "\n",
    "        # 移动文件到对应的风格文件夹\n",
    "        file_name = os.path.basename(file_path)\n",
    "        new_path = os.path.join(genre_folder, file_name)\n",
    "        shutil.move(file_path, new_path)\n",
    "        \n",
    "        # 增加对应风格的文件计数\n",
    "        genre_count[genre] += 1\n",
    "        # print(f\"Moved {file_path} to {new_path}\")\n",
    "        \n",
    "    print(\"\\nSong count by genre:\")\n",
    "    for genre, count in genre_count.items():\n",
    "        print(f\"{genre}: {count} files\")"
   ]
  },
  {
   "cell_type": "code",
   "execution_count": 51,
   "metadata": {},
   "outputs": [],
   "source": [
    "# reorganize_by_genre(result)"
   ]
  },
  {
   "cell_type": "markdown",
   "metadata": {},
   "source": [
    "```\n",
    "Song count by genre:\n",
    "Electronic: 394 files\n",
    "Experimental: 455 files\n",
    "Rock: 645 files\n",
    "Folk: 105 files\n",
    "Instrumental: 83 files\n",
    "Country: 14 files\n",
    "International: 54 files\n",
    "Classical: 53 files\n",
    "Hip-Hop: 129 files\n",
    "Pop: 114 files\n",
    "Spoken: 27 files\n",
    "Old-Time / Historic: 30 files\n",
    "Soul-RnB: 4 files\n",
    "Jazz: 17 files\n",
    "Easy Listening: 2 files\n",
    "Blues: 1 files\n",
    "```"
   ]
  },
  {
   "cell_type": "code",
   "execution_count": 52,
   "metadata": {},
   "outputs": [],
   "source": [
    "def count_songs_by_genre(destination_folder=\"data/spec/fma_small\"):\n",
    "    genre_count = defaultdict(int)\n",
    "    \n",
    "    # 遍历目标文件夹中的每个风格文件夹\n",
    "    for genre_folder in os.listdir(destination_folder):\n",
    "        genre_path = os.path.join(destination_folder, genre_folder)\n",
    "        \n",
    "        # 确保该路径是一个文件夹\n",
    "        if os.path.isdir(genre_path):\n",
    "            # 统计该风格文件夹中的文件数\n",
    "            genre_count[genre_folder] = len(os.listdir(genre_path))\n",
    "    \n",
    "    # 输出每个风格的文件数量\n",
    "    print(\"Song count by genre:\")\n",
    "    for genre, count in genre_count.items():\n",
    "        print(f\"{genre}: {count} files\")\n",
    "\n",
    "# count_songs_by_genre()"
   ]
  },
  {
   "cell_type": "code",
   "execution_count": null,
   "metadata": {},
   "outputs": [],
   "source": []
  }
 ],
 "metadata": {
  "kernelspec": {
   "display_name": "base",
   "language": "python",
   "name": "python3"
  },
  "language_info": {
   "codemirror_mode": {
    "name": "ipython",
    "version": 3
   },
   "file_extension": ".py",
   "mimetype": "text/x-python",
   "name": "python",
   "nbconvert_exporter": "python",
   "pygments_lexer": "ipython3",
   "version": "3.12.2"
  }
 },
 "nbformat": 4,
 "nbformat_minor": 2
}
